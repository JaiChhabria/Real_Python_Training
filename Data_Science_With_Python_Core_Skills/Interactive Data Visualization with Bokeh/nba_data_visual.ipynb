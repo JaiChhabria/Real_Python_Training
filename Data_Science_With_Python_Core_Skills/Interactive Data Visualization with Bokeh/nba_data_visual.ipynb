{
 "cells": [
  {
   "cell_type": "code",
   "execution_count": 1,
   "id": "779825e4-308f-41aa-beeb-c3a1757c050e",
   "metadata": {},
   "outputs": [],
   "source": [
    "import pandas as pd"
   ]
  },
  {
   "cell_type": "code",
   "execution_count": 3,
   "id": "01d6c412-3651-417d-b406-d39a9ec5b60a",
   "metadata": {},
   "outputs": [],
   "source": [
    "player_stats = pd.read_csv('2017-18_playerBoxScore.csv',parse_dates=['gmDate'])"
   ]
  },
  {
   "cell_type": "code",
   "execution_count": 4,
   "id": "e2c426f7-43de-48c6-97db-48f2e87f99fe",
   "metadata": {},
   "outputs": [],
   "source": [
    "team_stats = pd.read_csv('2017-18_teamBoxScore.csv',parse_dates=['gmDate'])"
   ]
  },
  {
   "cell_type": "code",
   "execution_count": 5,
   "id": "106e6874-41d7-4dfd-aa15-33cd0b85c04d",
   "metadata": {},
   "outputs": [],
   "source": [
    "standings = pd.read_csv('2017-18_standings.csv',parse_dates=['stDate'])"
   ]
  },
  {
   "cell_type": "code",
   "execution_count": 7,
   "id": "84a6ac6f-c924-406b-9c80-b9353c8f7639",
   "metadata": {},
   "outputs": [
    {
     "name": "stdout",
     "output_type": "stream",
     "text": [
      "<class 'pandas.core.frame.DataFrame'>\n",
      "RangeIndex: 5040 entries, 0 to 5039\n",
      "Data columns (total 39 columns):\n",
      " #   Column          Non-Null Count  Dtype         \n",
      "---  ------          --------------  -----         \n",
      " 0   stDate          5040 non-null   datetime64[ns]\n",
      " 1   teamAbbr        5040 non-null   object        \n",
      " 2   rank            5040 non-null   int64         \n",
      " 3   rankOrd         5040 non-null   object        \n",
      " 4   gameWon         5040 non-null   int64         \n",
      " 5   gameLost        5040 non-null   int64         \n",
      " 6   stk             5040 non-null   object        \n",
      " 7   stkType         5040 non-null   object        \n",
      " 8   stkTot          5040 non-null   int64         \n",
      " 9   gameBack        5040 non-null   float64       \n",
      " 10  ptsFor          5040 non-null   int64         \n",
      " 11  ptsAgnst        5040 non-null   int64         \n",
      " 12  homeWin         5040 non-null   int64         \n",
      " 13  homeLoss        5040 non-null   int64         \n",
      " 14  awayWin         5040 non-null   int64         \n",
      " 15  awayLoss        5040 non-null   int64         \n",
      " 16  confWin         5040 non-null   int64         \n",
      " 17  confLoss        5040 non-null   int64         \n",
      " 18  lastFive        5040 non-null   int64         \n",
      " 19  lastTen         5040 non-null   int64         \n",
      " 20  gamePlay        5040 non-null   int64         \n",
      " 21  ptsScore        5040 non-null   float64       \n",
      " 22  ptsAllow        5040 non-null   float64       \n",
      " 23  ptsDiff         5040 non-null   float64       \n",
      " 24  opptGmPlay      5040 non-null   int64         \n",
      " 25  opptGmWon       5040 non-null   int64         \n",
      " 26  opptOpptGmPlay  5040 non-null   int64         \n",
      " 27  opptOpptGmWon   5040 non-null   int64         \n",
      " 28  sos             5040 non-null   float64       \n",
      " 29  rel%Indx        5040 non-null   float64       \n",
      " 30  mov             5040 non-null   float64       \n",
      " 31  srs             5040 non-null   float64       \n",
      " 32  pw%             5040 non-null   float64       \n",
      " 33  pyth%13.91      5040 non-null   float64       \n",
      " 34  wpyth13.91      5040 non-null   float64       \n",
      " 35  lpyth13.91      5040 non-null   float64       \n",
      " 36  pyth%16.5       5040 non-null   float64       \n",
      " 37  wpyth16.5       5040 non-null   float64       \n",
      " 38  lpyth16.5       5040 non-null   float64       \n",
      "dtypes: datetime64[ns](1), float64(15), int64(19), object(4)\n",
      "memory usage: 1.5+ MB\n"
     ]
    }
   ],
   "source": [
    "standings.info()"
   ]
  },
  {
   "cell_type": "code",
   "execution_count": 8,
   "id": "c956dccf-e573-4758-b684-997cba8a8a2f",
   "metadata": {},
   "outputs": [],
   "source": [
    "# Create west_top_2\n",
    "\n",
    "west_top_2 = (standings[(standings['teamAbbr'] == 'HOU') | \n",
    "              (standings['teamAbbr'] == 'GS')]\n",
    "              .loc[:, ['stDate','teamAbbr','gameWon']]\n",
    "              .sort_values(['teamAbbr','stDate']))"
   ]
  },
  {
   "cell_type": "code",
   "execution_count": 10,
   "id": "e992aac7-8bd1-4202-b9b7-691e3fc592cd",
   "metadata": {},
   "outputs": [
    {
     "data": {
      "text/html": [
       "<div>\n",
       "<style scoped>\n",
       "    .dataframe tbody tr th:only-of-type {\n",
       "        vertical-align: middle;\n",
       "    }\n",
       "\n",
       "    .dataframe tbody tr th {\n",
       "        vertical-align: top;\n",
       "    }\n",
       "\n",
       "    .dataframe thead th {\n",
       "        text-align: right;\n",
       "    }\n",
       "</style>\n",
       "<table border=\"1\" class=\"dataframe\">\n",
       "  <thead>\n",
       "    <tr style=\"text-align: right;\">\n",
       "      <th></th>\n",
       "      <th>stDate</th>\n",
       "      <th>teamAbbr</th>\n",
       "      <th>gameWon</th>\n",
       "    </tr>\n",
       "  </thead>\n",
       "  <tbody>\n",
       "    <tr>\n",
       "      <th>9</th>\n",
       "      <td>2017-10-17</td>\n",
       "      <td>GS</td>\n",
       "      <td>0</td>\n",
       "    </tr>\n",
       "    <tr>\n",
       "      <th>39</th>\n",
       "      <td>2017-10-18</td>\n",
       "      <td>GS</td>\n",
       "      <td>0</td>\n",
       "    </tr>\n",
       "    <tr>\n",
       "      <th>69</th>\n",
       "      <td>2017-10-19</td>\n",
       "      <td>GS</td>\n",
       "      <td>0</td>\n",
       "    </tr>\n",
       "    <tr>\n",
       "      <th>99</th>\n",
       "      <td>2017-10-20</td>\n",
       "      <td>GS</td>\n",
       "      <td>1</td>\n",
       "    </tr>\n",
       "    <tr>\n",
       "      <th>129</th>\n",
       "      <td>2017-10-21</td>\n",
       "      <td>GS</td>\n",
       "      <td>1</td>\n",
       "    </tr>\n",
       "  </tbody>\n",
       "</table>\n",
       "</div>"
      ],
      "text/plain": [
       "        stDate teamAbbr  gameWon\n",
       "9   2017-10-17       GS        0\n",
       "39  2017-10-18       GS        0\n",
       "69  2017-10-19       GS        0\n",
       "99  2017-10-20       GS        1\n",
       "129 2017-10-21       GS        1"
      ]
     },
     "execution_count": 10,
     "metadata": {},
     "output_type": "execute_result"
    }
   ],
   "source": [
    "west_top_2.head()"
   ]
  },
  {
   "cell_type": "code",
   "execution_count": 11,
   "id": "6f584239-f163-4ad0-aa38-97a65d66f239",
   "metadata": {},
   "outputs": [
    {
     "data": {
      "text/html": [
       "<div>\n",
       "<style scoped>\n",
       "    .dataframe tbody tr th:only-of-type {\n",
       "        vertical-align: middle;\n",
       "    }\n",
       "\n",
       "    .dataframe tbody tr th {\n",
       "        vertical-align: top;\n",
       "    }\n",
       "\n",
       "    .dataframe thead th {\n",
       "        text-align: right;\n",
       "    }\n",
       "</style>\n",
       "<table border=\"1\" class=\"dataframe\">\n",
       "  <thead>\n",
       "    <tr style=\"text-align: right;\">\n",
       "      <th></th>\n",
       "      <th>stDate</th>\n",
       "      <th>teamAbbr</th>\n",
       "      <th>gameWon</th>\n",
       "    </tr>\n",
       "  </thead>\n",
       "  <tbody>\n",
       "    <tr>\n",
       "      <th>4900</th>\n",
       "      <td>2018-04-07</td>\n",
       "      <td>HOU</td>\n",
       "      <td>64</td>\n",
       "    </tr>\n",
       "    <tr>\n",
       "      <th>4930</th>\n",
       "      <td>2018-04-08</td>\n",
       "      <td>HOU</td>\n",
       "      <td>64</td>\n",
       "    </tr>\n",
       "    <tr>\n",
       "      <th>4960</th>\n",
       "      <td>2018-04-09</td>\n",
       "      <td>HOU</td>\n",
       "      <td>64</td>\n",
       "    </tr>\n",
       "    <tr>\n",
       "      <th>4990</th>\n",
       "      <td>2018-04-10</td>\n",
       "      <td>HOU</td>\n",
       "      <td>65</td>\n",
       "    </tr>\n",
       "    <tr>\n",
       "      <th>5020</th>\n",
       "      <td>2018-04-11</td>\n",
       "      <td>HOU</td>\n",
       "      <td>65</td>\n",
       "    </tr>\n",
       "  </tbody>\n",
       "</table>\n",
       "</div>"
      ],
      "text/plain": [
       "         stDate teamAbbr  gameWon\n",
       "4900 2018-04-07      HOU       64\n",
       "4930 2018-04-08      HOU       64\n",
       "4960 2018-04-09      HOU       64\n",
       "4990 2018-04-10      HOU       65\n",
       "5020 2018-04-11      HOU       65"
      ]
     },
     "execution_count": 11,
     "metadata": {},
     "output_type": "execute_result"
    }
   ],
   "source": [
    "west_top_2.tail()"
   ]
  },
  {
   "cell_type": "code",
   "execution_count": 26,
   "id": "a8fb2f8c-bb08-4d7e-8878-8913b1f17ba3",
   "metadata": {},
   "outputs": [],
   "source": [
    "# Creating visualization\n",
    "from bokeh.io import output_file\n",
    "from bokeh.plotting import figure, show\n",
    "from bokeh.models import ColumnDataSource, CDSView, GroupFilter"
   ]
  },
  {
   "cell_type": "code",
   "execution_count": 19,
   "id": "f9d921ea-99a2-4865-b44d-497938cc35e4",
   "metadata": {},
   "outputs": [],
   "source": [
    "# Out to statis html_file\n",
    "\n",
    "output_file('west_top_2_standing_race.html',\n",
    "            title='Western Conference Top 2 Teams Wins Race')"
   ]
  },
  {
   "cell_type": "code",
   "execution_count": 20,
   "id": "f733525b-b801-45ac-ae83-8886d6143c44",
   "metadata": {},
   "outputs": [],
   "source": [
    "# Isolate the data for the Rockets and Warriors - Without Group Filter\n",
    "\n",
    "#rockets_data = west_top_2[west_top_2['teamAbbr'] == 'HOU']\n",
    "#warriors_data = west_top_2[west_top_2['teamAbbr'] == 'GS']"
   ]
  },
  {
   "cell_type": "code",
   "execution_count": 21,
   "id": "697dc727-04bb-4d78-b2fd-8a5e7faba5ce",
   "metadata": {},
   "outputs": [],
   "source": [
    "# Create a ColumnDataSource object for each team\n",
    "#rockets_cds = ColumnDataSource(rockets_data)\n",
    "#warriors_cds = ColumnDataSource(warriors_data)"
   ]
  },
  {
   "cell_type": "code",
   "execution_count": 27,
   "id": "0f0f018c-a26d-49f7-939a-3986a7a4181e",
   "metadata": {},
   "outputs": [],
   "source": [
    "# Create a ColumnDataSource\n",
    "west_cds = ColumnDataSource(west_top_2)"
   ]
  },
  {
   "cell_type": "code",
   "execution_count": 28,
   "id": "cd7f7daa-986d-40a8-b369-ba00c500e1ca",
   "metadata": {},
   "outputs": [
    {
     "name": "stderr",
     "output_type": "stream",
     "text": [
      "BokehDeprecationWarning: CDSView.source is no longer needed, and is now ignored. In a future release, passing source will result an error.\n",
      "BokehDeprecationWarning: CDSView.filters was deprecated in bokeh 3.0. Use CDSView.filter instead.\n",
      "BokehDeprecationWarning: CDSView.source is no longer needed, and is now ignored. In a future release, passing source will result an error.\n",
      "BokehDeprecationWarning: CDSView.filters was deprecated in bokeh 3.0. Use CDSView.filter instead.\n"
     ]
    }
   ],
   "source": [
    "# Create a view for each team\n",
    "rockets_view = CDSView(source=west_cds,\n",
    "                       filters=[GroupFilter(column_name='teamAbbr', group='HOU')])\n",
    "\n",
    "warriors_view = CDSView(source=west_cds,\n",
    "                       filters=[GroupFilter(column_name='teamAbbr', group='GS')])"
   ]
  },
  {
   "cell_type": "code",
   "execution_count": 29,
   "id": "05714be1-e7c6-43dc-a0c3-ecb09a733f14",
   "metadata": {},
   "outputs": [],
   "source": [
    "# Create and configure a figure\n",
    "\n",
    "west_fig = figure(x_axis_type='datetime',\n",
    "                  height=300, width=600,\n",
    "                  title='Western Conference Top 2 Team Win Race, 2017-18',\n",
    "                  x_axis_label='Date',y_axis_label='Wins',\n",
    "                  toolbar_location=None)"
   ]
  },
  {
   "cell_type": "code",
   "execution_count": 31,
   "id": "eb23eeb2-f9ff-45b8-baa5-b717a81cd7e4",
   "metadata": {},
   "outputs": [
    {
     "data": {
      "text/html": [
       "<div style=\"display: table;\"><div style=\"display: table-row;\"><div style=\"display: table-cell;\"><b title=\"bokeh.models.renderers.glyph_renderer.GlyphRenderer\">GlyphRenderer</b>(</div><div style=\"display: table-cell;\">id&nbsp;=&nbsp;'p1202', <span id=\"p1207\" style=\"cursor: pointer;\">&hellip;)</span></div></div><div class=\"p1206\" style=\"display: none;\"><div style=\"display: table-cell;\"></div><div style=\"display: table-cell;\">coordinates&nbsp;=&nbsp;None,</div></div><div class=\"p1206\" style=\"display: none;\"><div style=\"display: table-cell;\"></div><div style=\"display: table-cell;\">data_source&nbsp;=&nbsp;ColumnDataSource(id='p1134', ...),</div></div><div class=\"p1206\" style=\"display: none;\"><div style=\"display: table-cell;\"></div><div style=\"display: table-cell;\">glyph&nbsp;=&nbsp;Step(id='p1199', ...),</div></div><div class=\"p1206\" style=\"display: none;\"><div style=\"display: table-cell;\"></div><div style=\"display: table-cell;\">group&nbsp;=&nbsp;None,</div></div><div class=\"p1206\" style=\"display: none;\"><div style=\"display: table-cell;\"></div><div style=\"display: table-cell;\">hover_glyph&nbsp;=&nbsp;None,</div></div><div class=\"p1206\" style=\"display: none;\"><div style=\"display: table-cell;\"></div><div style=\"display: table-cell;\">js_event_callbacks&nbsp;=&nbsp;{},</div></div><div class=\"p1206\" style=\"display: none;\"><div style=\"display: table-cell;\"></div><div style=\"display: table-cell;\">js_property_callbacks&nbsp;=&nbsp;{},</div></div><div class=\"p1206\" style=\"display: none;\"><div style=\"display: table-cell;\"></div><div style=\"display: table-cell;\">level&nbsp;=&nbsp;'glyph',</div></div><div class=\"p1206\" style=\"display: none;\"><div style=\"display: table-cell;\"></div><div style=\"display: table-cell;\">muted&nbsp;=&nbsp;False,</div></div><div class=\"p1206\" style=\"display: none;\"><div style=\"display: table-cell;\"></div><div style=\"display: table-cell;\">muted_glyph&nbsp;=&nbsp;Step(id='p1201', ...),</div></div><div class=\"p1206\" style=\"display: none;\"><div style=\"display: table-cell;\"></div><div style=\"display: table-cell;\">name&nbsp;=&nbsp;None,</div></div><div class=\"p1206\" style=\"display: none;\"><div style=\"display: table-cell;\"></div><div style=\"display: table-cell;\">nonselection_glyph&nbsp;=&nbsp;Step(id='p1200', ...),</div></div><div class=\"p1206\" style=\"display: none;\"><div style=\"display: table-cell;\"></div><div style=\"display: table-cell;\">propagate_hover&nbsp;=&nbsp;False,</div></div><div class=\"p1206\" style=\"display: none;\"><div style=\"display: table-cell;\"></div><div style=\"display: table-cell;\">selection_glyph&nbsp;=&nbsp;'auto',</div></div><div class=\"p1206\" style=\"display: none;\"><div style=\"display: table-cell;\"></div><div style=\"display: table-cell;\">subscribed_events&nbsp;=&nbsp;PropertyValueSet(),</div></div><div class=\"p1206\" style=\"display: none;\"><div style=\"display: table-cell;\"></div><div style=\"display: table-cell;\">syncable&nbsp;=&nbsp;True,</div></div><div class=\"p1206\" style=\"display: none;\"><div style=\"display: table-cell;\"></div><div style=\"display: table-cell;\">tags&nbsp;=&nbsp;[],</div></div><div class=\"p1206\" style=\"display: none;\"><div style=\"display: table-cell;\"></div><div style=\"display: table-cell;\">view&nbsp;=&nbsp;CDSView(id='p1141', ...),</div></div><div class=\"p1206\" style=\"display: none;\"><div style=\"display: table-cell;\"></div><div style=\"display: table-cell;\">visible&nbsp;=&nbsp;True,</div></div><div class=\"p1206\" style=\"display: none;\"><div style=\"display: table-cell;\"></div><div style=\"display: table-cell;\">x_range_name&nbsp;=&nbsp;'default',</div></div><div class=\"p1206\" style=\"display: none;\"><div style=\"display: table-cell;\"></div><div style=\"display: table-cell;\">y_range_name&nbsp;=&nbsp;'default')</div></div></div>\n",
       "<script>\n",
       "(function() {\n",
       "  let expanded = false;\n",
       "  const ellipsis = document.getElementById(\"p1207\");\n",
       "  ellipsis.addEventListener(\"click\", function() {\n",
       "    const rows = document.getElementsByClassName(\"p1206\");\n",
       "    for (let i = 0; i < rows.length; i++) {\n",
       "      const el = rows[i];\n",
       "      el.style.display = expanded ? \"none\" : \"table-row\";\n",
       "    }\n",
       "    ellipsis.innerHTML = expanded ? \"&hellip;)\" : \"&lsaquo;&lsaquo;&lsaquo;\";\n",
       "    expanded = !expanded;\n",
       "  });\n",
       "})();\n",
       "</script>\n"
      ],
      "text/plain": [
       "GlyphRenderer(id='p1202', ...)"
      ]
     },
     "execution_count": 31,
     "metadata": {},
     "output_type": "execute_result"
    }
   ],
   "source": [
    "# Render the race as step lines\n",
    "\n",
    "west_fig.step('stDate','gameWon',\n",
    "              source=west_cds, view=rockets_view,\n",
    "              color='#CE1141', legend_label='Rockets')\n",
    "west_fig.step('stDate','gameWon',\n",
    "              source=west_cds, view=warriors_view,\n",
    "              color='#006BB6', legend_label='Warriors')"
   ]
  },
  {
   "cell_type": "markdown",
   "id": "39bec030-fe78-4dd5-8b8d-635d53f3bc5d",
   "metadata": {},
   "source": [
    "# Create and configure a figure\n",
    "\n",
    "fig = figure(x_axis_type='datetime',\n",
    "             height=300, width=600,\n",
    "             title='Western Conference Top 2 Teams Wins Race, 2017-18',\n",
    "             x_axis_label='Date',y_axis_label='Wins',\n",
    "             toolbar_location=None)"
   ]
  },
  {
   "cell_type": "markdown",
   "id": "062727a8-05ef-4137-850b-0159e4a53af6",
   "metadata": {},
   "source": [
    "# Render the race as Step Lines\n",
    "fig.step('stDate','gameWon',\n",
    "         color='#CE1141',legend_label='Rockets',\n",
    "         source=rockets_cds)\n",
    "fig.step('stDate','gameWon',\n",
    "         color='#006BB6', legend_label='Warriors',\n",
    "         source=warriors_cds)\n"
   ]
  },
  {
   "cell_type": "code",
   "execution_count": 32,
   "id": "d66c38cd-07e3-41a5-81bb-19f3f5d1d802",
   "metadata": {},
   "outputs": [],
   "source": [
    "west_fig.legend.location = 'top_left'\n",
    "\n",
    "show(west_fig)"
   ]
  },
  {
   "cell_type": "code",
   "execution_count": 37,
   "id": "3a7fe90d-1b49-40db-b591-e4408d9ff4e0",
   "metadata": {},
   "outputs": [
    {
     "name": "stderr",
     "output_type": "stream",
     "text": [
      "BokehDeprecationWarning: CDSView.source is no longer needed, and is now ignored. In a future release, passing source will result an error.\n",
      "BokehDeprecationWarning: CDSView.filters was deprecated in bokeh 3.0. Use CDSView.filter instead.\n",
      "BokehDeprecationWarning: CDSView.source is no longer needed, and is now ignored. In a future release, passing source will result an error.\n",
      "BokehDeprecationWarning: CDSView.filters was deprecated in bokeh 3.0. Use CDSView.filter instead.\n",
      "BokehDeprecationWarning: CDSView.source is no longer needed, and is now ignored. In a future release, passing source will result an error.\n",
      "BokehDeprecationWarning: CDSView.filters was deprecated in bokeh 3.0. Use CDSView.filter instead.\n",
      "BokehDeprecationWarning: CDSView.source is no longer needed, and is now ignored. In a future release, passing source will result an error.\n",
      "BokehDeprecationWarning: CDSView.filters was deprecated in bokeh 3.0. Use CDSView.filter instead.\n"
     ]
    }
   ],
   "source": [
    "#Creating_View side by Side\n",
    "\n",
    "# Bokeh libraries\n",
    "from bokeh.io import output_file\n",
    "from bokeh.plotting import figure, show\n",
    "from bokeh.models import ColumnDataSource, CDSView, GroupFilter\n",
    "from bokeh.layouts import column, row\n",
    "\n",
    "# Import the data\n",
    "#from read_nba_data import standings\n",
    "\n",
    "# Output to static HTML file\n",
    "output_file('east__west_top_2_standings_race.html',\n",
    "            title='Conference Top 2 Teams Wins Race')\n",
    "\n",
    "# Create a ColumnDataSource\n",
    "standings_cds = ColumnDataSource(standings)\n",
    "\n",
    "# Create view for each team\n",
    "celtics_view = CDSView(source=standings_cds,\n",
    "                       filters=[GroupFilter(column_name='teamAbbr', group='BOS')])\n",
    "raptors_view = CDSView(source=standings_cds,\n",
    "                        filters=[GroupFilter(column_name='teamAbbr', group='TOR')])\n",
    "rockets_view = CDSView(source=standings_cds,\n",
    "                        filters=[GroupFilter(column_name='teamAbbr', group='HOU')])\n",
    "warriors_view = CDSView(source=standings_cds,\n",
    "                        filters=[GroupFilter(column_name='teamAbbr', group='GS')])\n",
    "\n",
    "# Create and configure the figure\n",
    "east_fig = figure(x_axis_type='datetime',\n",
    "                  height=300,\n",
    "                  x_axis_label='Date', \n",
    "                  y_axis_label='Wins',\n",
    "                  toolbar_location=None)\n",
    "\n",
    "west_fig = figure(x_axis_type='datetime',\n",
    "                  height=300,\n",
    "                  x_axis_label='Date', \n",
    "                  y_axis_label='Wins',\n",
    "                  toolbar_location=None)\n",
    "\n",
    "# Render the race as step lines\n",
    "east_fig.step('stDate', 'gameWon', source=standings_cds,\n",
    "              view=celtics_view,\n",
    "              color='#007A33', legend_label='Celtics')\n",
    "east_fig.step('stDate', 'gameWon',  source=standings_cds,\n",
    "              view=raptors_view,\n",
    "              color='#CE1141', legend_label='Raptors')\n",
    "west_fig.step('stDate', 'gameWon',  source=standings_cds,\n",
    "              view=rockets_view,\n",
    "              color='#CE1141', legend_label='Rockets')\n",
    "west_fig.step('stDate', 'gameWon',  source=standings_cds,\n",
    "              view=warriors_view,\n",
    "              color='#006BB6', legend_label='Warriors')\n",
    "\n",
    "# Move the legend to the upper left corner\n",
    "east_fig.legend.location = 'top_left'\n",
    "west_fig.legend.location = 'top_left'\n",
    "\n",
    "# Show the plot\n",
    "show(column(west_fig, east_fig)) # To show data side by side use row instead of column"
   ]
  },
  {
   "cell_type": "code",
   "execution_count": null,
   "id": "aee6e020-5aca-457b-9250-a9ddc1c7d66f",
   "metadata": {},
   "outputs": [],
   "source": []
  }
 ],
 "metadata": {
  "kernelspec": {
   "display_name": "Python 3 (ipykernel)",
   "language": "python",
   "name": "python3"
  },
  "language_info": {
   "codemirror_mode": {
    "name": "ipython",
    "version": 3
   },
   "file_extension": ".py",
   "mimetype": "text/x-python",
   "name": "python",
   "nbconvert_exporter": "python",
   "pygments_lexer": "ipython3",
   "version": "3.11.5"
  }
 },
 "nbformat": 4,
 "nbformat_minor": 5
}
